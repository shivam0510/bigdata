{
 "cells": [
  {
   "cell_type": "code",
   "execution_count": 29,
   "metadata": {},
   "outputs": [
    {
     "name": "stdout",
     "output_type": "stream",
     "text": [
      "Overwriting reducerfile.py\n"
     ]
    }
   ],
   "source": [
    "%%writefile reducerfile.py\n",
    "\n",
    "import sys\n",
    "import heapq \n",
    "\n",
    "li = []\n",
    "\n",
    "#heapq.heapify(li)\n",
    "\n",
    "currentWord = None\n",
    "val = 0\n",
    "\n",
    "for line in sys.stdin:\n",
    "    try:\n",
    "        word, value = line.strip().split('\\t',1)\n",
    "        if(word == currentWord):\n",
    "            val+=1\n",
    "        else:\n",
    "            if currentWord:\n",
    "                heapq.heappush(li,(val,currentWord))\n",
    "                if len(li) > 7:\n",
    "                    heapq.heappop(li)\n",
    "            currentWord = word\n",
    "            val = 1\n",
    "    except:\n",
    "        continue\n",
    "\n",
    "heapq.heappush(li,(val,currentWord))\n",
    "if len(li) > 7:\n",
    "    heapq.heappop(li)\n",
    "    \n",
    "while li:\n",
    "    value,word = heapq.heappop(li)\n",
    "    print \"%s\\t%d\" % (word,value)\n",
    "    "
   ]
  },
  {
   "cell_type": "code",
   "execution_count": 21,
   "metadata": {},
   "outputs": [
    {
     "name": "stdout",
     "output_type": "stream",
     "text": [
      "Overwriting mapperfile.py\n"
     ]
    }
   ],
   "source": [
    "%%writefile mapperfile.py\n",
    "\n",
    "import sys\n",
    "import re\n",
    "\n",
    "reload(sys)\n",
    "sys.setdefaultencoding('utf-8')\n",
    "\n",
    "for line in sys.stdin:\n",
    "    try:\n",
    "        article_id, text = unicode(line.strip()).split('\\t',1)\n",
    "    except valueError as e:\n",
    "        continue\n",
    "    text = re.sub(\"^\\W+|\\W+$\", \"\", text, flags=re.UNICODE)\n",
    "    words = re.split(\"\\W*\\s+\\W*\", text, flags=re.UNICODE)\n",
    "    for word in words:\n",
    "        print \"%s\\t%d\" % (word.strip().lower(),1)"
   ]
  },
  {
   "cell_type": "code",
   "execution_count": 30,
   "metadata": {},
   "outputs": [
    {
     "name": "stdout",
     "output_type": "stream",
     "text": [
      "Overwriting shellfile.sh\n"
     ]
    }
   ],
   "source": [
    "%%writefile shellfile.sh\n",
    "\n",
    "yarn jar /opt/cloudera/parcels/CDH/lib/hadoop-mapreduce/hadoop-streaming.jar \\\n",
    "    -files mapperfile.py,reducerfile.py \\\n",
    "    -mapper 'python mapperfile.py' \\\n",
    "    -reducer 'python reducerfile.py' \\\n",
    "    -numReduceTasks 1 \\\n",
    "    -input /data/wiki/en_articles_part/articles-part \\\n",
    "    -output word_frequency3"
   ]
  },
  {
   "cell_type": "code",
   "execution_count": 32,
   "metadata": {},
   "outputs": [
    {
     "name": "stdout",
     "output_type": "stream",
     "text": [
      "Found 2 items\r\n",
      "-rw-r--r--   1 jovyan supergroup          0 2019-12-27 19:21 word_frequency3/_SUCCESS\r\n",
      "-rw-r--r--   1 jovyan supergroup         71 2019-12-27 19:21 word_frequency3/part-00000\r\n"
     ]
    }
   ],
   "source": [
    "!hdfs dfs -ls word_frequency3"
   ]
  },
  {
   "cell_type": "code",
   "execution_count": 31,
   "metadata": {
    "scrolled": true
   },
   "outputs": [
    {
     "name": "stdout",
     "output_type": "stream",
     "text": [
      "is\t126420\r\n",
      "a\t236225\r\n",
      "to\t241467\r\n",
      "in\t292354\r\n",
      "and\t342715\r\n",
      "of\t447464\r\n",
      "the\t822164\r\n"
     ]
    }
   ],
   "source": [
    "!hdfs dfs -cat word_frequency3/part-00000"
   ]
  },
  {
   "cell_type": "code",
   "execution_count": null,
   "metadata": {},
   "outputs": [],
   "source": []
  }
 ],
 "metadata": {
  "kernelspec": {
   "display_name": "Python 2",
   "language": "python",
   "name": "python2"
  },
  "language_info": {
   "codemirror_mode": {
    "name": "ipython",
    "version": 2
   },
   "file_extension": ".py",
   "mimetype": "text/x-python",
   "name": "python",
   "nbconvert_exporter": "python",
   "pygments_lexer": "ipython2",
   "version": "2.7.12"
  }
 },
 "nbformat": 4,
 "nbformat_minor": 2
}
