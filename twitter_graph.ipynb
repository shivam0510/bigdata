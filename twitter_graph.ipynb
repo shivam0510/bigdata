{
 "cells": [
  {
   "cell_type": "code",
   "execution_count": 1,
   "metadata": {},
   "outputs": [],
   "source": [
    "from pyspark import SparkConf, SparkContext\n",
    "sc = SparkContext(conf=SparkConf().setAppName(\"MyApp\").setMaster(\"local\"))"
   ]
  },
  {
   "cell_type": "code",
   "execution_count": 2,
   "metadata": {},
   "outputs": [],
   "source": [
    "def parse_edge(s):\n",
    "    user, follower = s.split(\"\\t\")\n",
    "    return (int(user), int(follower))"
   ]
  },
  {
   "cell_type": "code",
   "execution_count": 3,
   "metadata": {},
   "outputs": [],
   "source": [
    "n = 400  # number of partitions\n",
    "edges = sc.textFile(\"/data/twitter/twitter_sample_small.txt\").map(parse_edge).partitionBy(n).persist()\n",
    "edges = edges.map(lambda e: (e[1], e[0])).persist()"
   ]
  },
  {
   "cell_type": "code",
   "execution_count": 5,
   "metadata": {},
   "outputs": [
    {
     "data": {
      "text/plain": [
       "544304"
      ]
     },
     "execution_count": 5,
     "metadata": {},
     "output_type": "execute_result"
    }
   ],
   "source": [
    "edges.count()"
   ]
  },
  {
   "cell_type": "code",
   "execution_count": 4,
   "metadata": {},
   "outputs": [],
   "source": [
    "pa = [[12,[12]]]\n",
    "dest = 34\n",
    "candidates = sc.parallelize(pa).partitionBy(n).persist()"
   ]
  },
  {
   "cell_type": "code",
   "execution_count": 5,
   "metadata": {},
   "outputs": [],
   "source": [
    "def step(item):\n",
    "    key=[item[1][-1],[item[0]]+ item[1][0]]\n",
    "    \n",
    "    return key"
   ]
  },
  {
   "cell_type": "code",
   "execution_count": 6,
   "metadata": {},
   "outputs": [
    {
     "name": "stdout",
     "output_type": "stream",
     "text": [
      "0\n",
      "1\n",
      "2\n",
      "3\n",
      "4\n",
      "5\n",
      "6\n",
      "7\n",
      "[[34, [274, 23, 20, 107, 52, 53, 422, 12, 12]]]\n"
     ]
    }
   ],
   "source": [
    "steps = 0\n",
    "while edges.count() >0:\n",
    "    print(steps)\n",
    "    \n",
    "    candidates = candidates.join(edges,n)\n",
    "    if candidates.count() == 0:\n",
    "        break\n",
    "    \n",
    "    edges = edges.leftOuterJoin(candidates,n).filter(lambda k: k[1][1] == None).map(lambda x: [x[0],x[1][0]]).persist()\n",
    "    candidates = candidates.map(step).persist()\n",
    "    m = candidates.filter(lambda x:x[0] == dest)\n",
    "    if m.count()>0:\n",
    "        print(m.collect())\n",
    "        break\n",
    "    steps+=1\n"
   ]
  }
 ],
 "metadata": {
  "kernelspec": {
   "display_name": "Python 3",
   "language": "python",
   "name": "python3"
  },
  "language_info": {
   "codemirror_mode": {
    "name": "ipython",
    "version": 3
   },
   "file_extension": ".py",
   "mimetype": "text/x-python",
   "name": "python",
   "nbconvert_exporter": "python",
   "pygments_lexer": "ipython3",
   "version": "3.6.2"
  }
 },
 "nbformat": 4,
 "nbformat_minor": 2
}
