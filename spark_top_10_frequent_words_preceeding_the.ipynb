{
 "cells": [
  {
   "cell_type": "code",
   "execution_count": 1,
   "metadata": {},
   "outputs": [],
   "source": [
    "from pyspark import SparkConf, SparkContext\n",
    "sc = SparkContext(conf=SparkConf().setAppName(\"MyApp\").setMaster(\"local\"))"
   ]
  },
  {
   "cell_type": "code",
   "execution_count": 9,
   "metadata": {},
   "outputs": [],
   "source": [
    "import re\n",
    "\n",
    "def parse_article(line):\n",
    "    try:\n",
    "        article_id, text = unicode(line.rstrip()).split('\\t', 1)\n",
    "    except ValueError as e:\n",
    "        return []\n",
    "    text = re.sub(\"^\\W+|\\W+$\", \"\", text, flags=re.UNICODE)\n",
    "    words = re.split(\"\\W*\\s+\\W*\", text, flags=re.UNICODE) #this returns an array of words\n",
    "    result = []\n",
    "    \n",
    "    for i,word in enumerate(words):\n",
    "        if word.lower() == \"the\" and i+1 < len(words):\n",
    "            result.append((words[i+1],1))\n",
    "                \n",
    "    return result\n",
    "\n",
    "wiki = sc.textFile(\"/data/wiki/en_articles_part/articles-part\").flatMap(parse_article)\n",
    "x = wiki.reduceByKey(lambda x,y: x+y)"
   ]
  },
  {
   "cell_type": "code",
   "execution_count": 14,
   "metadata": {},
   "outputs": [
    {
     "name": "stdout",
     "output_type": "stream",
     "text": [
      "[(u'first', 11647), (u'United', 7050), (u'same', 6663), (u'most', 5708), (u'city', 4234), (u'world', 3211), (u'other', 3012), (u'time', 2939), (u'two', 2933), (u'end', 2801)]\n"
     ]
    }
   ],
   "source": [
    "y = x.takeOrdered(10,lambda (key,value):-1*value)\n",
    "print y"
   ]
  },
  {
   "cell_type": "code",
   "execution_count": 8,
   "metadata": {},
   "outputs": [
    {
     "name": "stdout",
     "output_type": "stream",
     "text": [
      "articles-part\r\n"
     ]
    }
   ],
   "source": [
    "ls /data/wiki/en_articles_part/"
   ]
  },
  {
   "cell_type": "code",
   "execution_count": 2,
   "metadata": {},
   "outputs": [
    {
     "name": "stdout",
     "output_type": "stream",
     "text": [
      "course01_week05-Demo.ipynb  course03_week05-Demo.ipynb\r\n",
      "course02_week04-Demo.ipynb  course04_week01-KafkaCli.ipynb\r\n",
      "course02_week05-Demo.ipynb  course04_week02-StreamingDemo.ipynb\r\n",
      "course02_week06-Demo.ipynb  course04_week02-StreamingUserSegmentation.ipynb\r\n",
      "course03_week03-Demo.ipynb  course04_week02-StreamingWordCount.ipynb\r\n",
      "course03_week04-Demo.ipynb  course04_week04-RedisAssignment.ipynb\r\n"
     ]
    }
   ],
   "source": [
    "ls"
   ]
  },
  {
   "cell_type": "code",
   "execution_count": 3,
   "metadata": {},
   "outputs": [
    {
     "data": {
      "text/plain": [
       "u'/home/jovyan/work/demos'"
      ]
     },
     "execution_count": 3,
     "metadata": {},
     "output_type": "execute_result"
    }
   ],
   "source": [
    "pwd"
   ]
  },
  {
   "cell_type": "code",
   "execution_count": 4,
   "metadata": {},
   "outputs": [
    {
     "name": "stdout",
     "output_type": "stream",
     "text": [
      "/home/jovyan\n"
     ]
    }
   ],
   "source": [
    "cd "
   ]
  },
  {
   "cell_type": "code",
   "execution_count": 24,
   "metadata": {},
   "outputs": [
    {
     "name": "stdout",
     "output_type": "stream",
     "text": [
      "/data\n"
     ]
    }
   ],
   "source": [
    "cd .."
   ]
  },
  {
   "cell_type": "code",
   "execution_count": 26,
   "metadata": {},
   "outputs": [
    {
     "name": "stdout",
     "output_type": "stream",
     "text": [
      "/data/graphDFSample\n"
     ]
    }
   ],
   "source": [
    "cd graphDFSample/"
   ]
  }
 ],
 "metadata": {
  "kernelspec": {
   "display_name": "Python 2",
   "language": "python",
   "name": "python2"
  },
  "language_info": {
   "codemirror_mode": {
    "name": "ipython",
    "version": 2
   },
   "file_extension": ".py",
   "mimetype": "text/x-python",
   "name": "python",
   "nbconvert_exporter": "python",
   "pygments_lexer": "ipython2",
   "version": "2.7.12"
  }
 },
 "nbformat": 4,
 "nbformat_minor": 2
}
